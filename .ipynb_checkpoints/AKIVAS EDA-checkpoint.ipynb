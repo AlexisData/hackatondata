{
 "cells": [
  {
   "cell_type": "code",
   "execution_count": 1,
   "id": "b534ca3f",
   "metadata": {
    "ExecuteTime": {
     "end_time": "2021-09-01T08:18:45.233026Z",
     "start_time": "2021-09-01T08:18:39.302395Z"
    }
   },
   "outputs": [],
   "source": [
    "import pandas as pd\n",
    "import numpy as np\n",
    "import matplotlib.pyplot as plt\n",
    "import seaborn as sns"
   ]
  },
  {
   "cell_type": "code",
   "execution_count": 2,
   "id": "403dd2e6",
   "metadata": {
    "ExecuteTime": {
     "end_time": "2021-09-01T08:26:04.314440Z",
     "start_time": "2021-09-01T08:26:04.274647Z"
    }
   },
   "outputs": [],
   "source": [
    "df1 = pd.read_csv('DATASETS/2017_-_Cities_Community_Wide_Emissions (1).csv') "
   ]
  },
  {
   "cell_type": "code",
   "execution_count": 3,
   "id": "dae0f6c0",
   "metadata": {
    "ExecuteTime": {
     "end_time": "2021-09-01T08:26:12.717239Z",
     "start_time": "2021-09-01T08:26:12.666880Z"
    }
   },
   "outputs": [
    {
     "data": {
      "text/html": [
       "<div>\n",
       "<style scoped>\n",
       "    .dataframe tbody tr th:only-of-type {\n",
       "        vertical-align: middle;\n",
       "    }\n",
       "\n",
       "    .dataframe tbody tr th {\n",
       "        vertical-align: top;\n",
       "    }\n",
       "\n",
       "    .dataframe thead th {\n",
       "        text-align: right;\n",
       "    }\n",
       "</style>\n",
       "<table border=\"1\" class=\"dataframe\">\n",
       "  <thead>\n",
       "    <tr style=\"text-align: right;\">\n",
       "      <th></th>\n",
       "      <th>Account number</th>\n",
       "      <th>Organization</th>\n",
       "      <th>City</th>\n",
       "      <th>Country</th>\n",
       "      <th>Region</th>\n",
       "      <th>C40</th>\n",
       "      <th>Access</th>\n",
       "      <th>Reporting year</th>\n",
       "      <th>Accounting year</th>\n",
       "      <th>Boundary</th>\n",
       "      <th>...</th>\n",
       "      <th>Population year</th>\n",
       "      <th>GDP</th>\n",
       "      <th>GDP Currency</th>\n",
       "      <th>GDP Year</th>\n",
       "      <th>GDP Source</th>\n",
       "      <th>Average annual temperature (in Celsius)​</th>\n",
       "      <th>​Average altitude (m)</th>\n",
       "      <th>​Land area (in square km)</th>\n",
       "      <th>City Location</th>\n",
       "      <th>Country Location</th>\n",
       "    </tr>\n",
       "  </thead>\n",
       "  <tbody>\n",
       "    <tr>\n",
       "      <th>0</th>\n",
       "      <td>49363</td>\n",
       "      <td>Nelson Mandela Bay Municipality</td>\n",
       "      <td>Nelson Mandela Bay</td>\n",
       "      <td>South Africa</td>\n",
       "      <td>Africa</td>\n",
       "      <td>NaN</td>\n",
       "      <td>Public</td>\n",
       "      <td>2017</td>\n",
       "      <td>2013-07-01 - 2014-06-30</td>\n",
       "      <td>A metropolitan area</td>\n",
       "      <td>...</td>\n",
       "      <td>2011</td>\n",
       "      <td>5.214700e+04</td>\n",
       "      <td>ZAR     South African Rand</td>\n",
       "      <td>2010.0</td>\n",
       "      <td>Built Environment Performance Plan(BEPP)</td>\n",
       "      <td>17.5</td>\n",
       "      <td>69.0</td>\n",
       "      <td>1950.0</td>\n",
       "      <td>(-33.745241, 25.568108)</td>\n",
       "      <td>(-30.559482, 22.937506)</td>\n",
       "    </tr>\n",
       "    <tr>\n",
       "      <th>1</th>\n",
       "      <td>31171</td>\n",
       "      <td>Ayuntamiento de Madrid</td>\n",
       "      <td>Madrid</td>\n",
       "      <td>Spain</td>\n",
       "      <td>Europe</td>\n",
       "      <td>C40</td>\n",
       "      <td>Public</td>\n",
       "      <td>2017</td>\n",
       "      <td>2014-01-01 - 2014-12-31</td>\n",
       "      <td>Administrative boundary of a local government</td>\n",
       "      <td>...</td>\n",
       "      <td>2016</td>\n",
       "      <td>1.293780e+11</td>\n",
       "      <td>EUR     Euro</td>\n",
       "      <td>2015.0</td>\n",
       "      <td>Contabilidad Municipal Trimestral. Ciudad de M...</td>\n",
       "      <td>15.0</td>\n",
       "      <td>655.0</td>\n",
       "      <td>604.0</td>\n",
       "      <td>(40.1076253, -3.3875673)</td>\n",
       "      <td>(40.463667, -3.74922)</td>\n",
       "    </tr>\n",
       "    <tr>\n",
       "      <th>2</th>\n",
       "      <td>3417</td>\n",
       "      <td>New York City</td>\n",
       "      <td>New York City</td>\n",
       "      <td>USA</td>\n",
       "      <td>North America</td>\n",
       "      <td>C40</td>\n",
       "      <td>Public</td>\n",
       "      <td>2017</td>\n",
       "      <td>2015-01-01 - 2015-12-31</td>\n",
       "      <td>Administrative boundary of a local government</td>\n",
       "      <td>...</td>\n",
       "      <td>2016</td>\n",
       "      <td>1.558520e+12</td>\n",
       "      <td>USD     US Dollar</td>\n",
       "      <td>2015.0</td>\n",
       "      <td>http://www.brookings.edu/research/reports2/201...</td>\n",
       "      <td>13.0</td>\n",
       "      <td>10.0</td>\n",
       "      <td>784.0</td>\n",
       "      <td>(40.7127837, -74.0059413)</td>\n",
       "      <td>(37.09024, -95.712891)</td>\n",
       "    </tr>\n",
       "    <tr>\n",
       "      <th>3</th>\n",
       "      <td>59537</td>\n",
       "      <td>City of Denton, TX</td>\n",
       "      <td>Denton, TX</td>\n",
       "      <td>USA</td>\n",
       "      <td>North America</td>\n",
       "      <td>NaN</td>\n",
       "      <td>Public</td>\n",
       "      <td>2017</td>\n",
       "      <td>2015-01-01 - 2015-12-31</td>\n",
       "      <td>Administrative boundary of a local government</td>\n",
       "      <td>...</td>\n",
       "      <td>2015</td>\n",
       "      <td>NaN</td>\n",
       "      <td>NaN</td>\n",
       "      <td>NaN</td>\n",
       "      <td>NaN</td>\n",
       "      <td>18.2</td>\n",
       "      <td>192.0</td>\n",
       "      <td>227.8</td>\n",
       "      <td>(33.214841, -97.133068)</td>\n",
       "      <td>(37.09024, -95.712891)</td>\n",
       "    </tr>\n",
       "    <tr>\n",
       "      <th>4</th>\n",
       "      <td>35894</td>\n",
       "      <td>Ville de Montreal</td>\n",
       "      <td>Montreal</td>\n",
       "      <td>Canada</td>\n",
       "      <td>North America</td>\n",
       "      <td>C40</td>\n",
       "      <td>Public</td>\n",
       "      <td>2017</td>\n",
       "      <td>2013-01-01 - 2013-12-31</td>\n",
       "      <td>A metropolitan area</td>\n",
       "      <td>...</td>\n",
       "      <td>2013</td>\n",
       "      <td>1.154128e+08</td>\n",
       "      <td>CAD     Canadian Dollar</td>\n",
       "      <td>2013.0</td>\n",
       "      <td>Institut de la statistique du Québec</td>\n",
       "      <td>6.8</td>\n",
       "      <td>17.0</td>\n",
       "      <td>500.0</td>\n",
       "      <td>(45.5086699, -73.5539925)</td>\n",
       "      <td>(56.130366, -106.346771)</td>\n",
       "    </tr>\n",
       "  </tbody>\n",
       "</table>\n",
       "<p>5 rows × 31 columns</p>\n",
       "</div>"
      ],
      "text/plain": [
       "   Account number                     Organization                 City  \\\n",
       "0           49363  Nelson Mandela Bay Municipality  Nelson Mandela Bay    \n",
       "1           31171           Ayuntamiento de Madrid               Madrid   \n",
       "2            3417                    New York City        New York City   \n",
       "3           59537               City of Denton, TX           Denton, TX   \n",
       "4           35894                Ville de Montreal             Montreal   \n",
       "\n",
       "        Country         Region  C40  Access  Reporting year  \\\n",
       "0  South Africa         Africa  NaN  Public            2017   \n",
       "1         Spain         Europe  C40  Public            2017   \n",
       "2           USA  North America  C40  Public            2017   \n",
       "3           USA  North America  NaN  Public            2017   \n",
       "4        Canada  North America  C40  Public            2017   \n",
       "\n",
       "           Accounting year                                       Boundary  \\\n",
       "0  2013-07-01 - 2014-06-30                            A metropolitan area   \n",
       "1  2014-01-01 - 2014-12-31  Administrative boundary of a local government   \n",
       "2  2015-01-01 - 2015-12-31  Administrative boundary of a local government   \n",
       "3  2015-01-01 - 2015-12-31  Administrative boundary of a local government   \n",
       "4  2013-01-01 - 2013-12-31                            A metropolitan area   \n",
       "\n",
       "   ... Population year           GDP                GDP Currency  GDP Year  \\\n",
       "0  ...            2011  5.214700e+04  ZAR     South African Rand    2010.0   \n",
       "1  ...            2016  1.293780e+11                EUR     Euro    2015.0   \n",
       "2  ...            2016  1.558520e+12           USD     US Dollar    2015.0   \n",
       "3  ...            2015           NaN                         NaN       NaN   \n",
       "4  ...            2013  1.154128e+08     CAD     Canadian Dollar    2013.0   \n",
       "\n",
       "                                          GDP Source  \\\n",
       "0           Built Environment Performance Plan(BEPP)   \n",
       "1  Contabilidad Municipal Trimestral. Ciudad de M...   \n",
       "2  http://www.brookings.edu/research/reports2/201...   \n",
       "3                                                NaN   \n",
       "4               Institut de la statistique du Québec   \n",
       "\n",
       "   Average annual temperature (in Celsius)​  ​Average altitude (m)  \\\n",
       "0                                      17.5                   69.0   \n",
       "1                                      15.0                  655.0   \n",
       "2                                      13.0                   10.0   \n",
       "3                                      18.2                  192.0   \n",
       "4                                       6.8                   17.0   \n",
       "\n",
       "  ​Land area (in square km)              City Location  \\\n",
       "0                    1950.0    (-33.745241, 25.568108)   \n",
       "1                     604.0   (40.1076253, -3.3875673)   \n",
       "2                     784.0  (40.7127837, -74.0059413)   \n",
       "3                     227.8    (33.214841, -97.133068)   \n",
       "4                     500.0  (45.5086699, -73.5539925)   \n",
       "\n",
       "           Country Location  \n",
       "0   (-30.559482, 22.937506)  \n",
       "1     (40.463667, -3.74922)  \n",
       "2    (37.09024, -95.712891)  \n",
       "3    (37.09024, -95.712891)  \n",
       "4  (56.130366, -106.346771)  \n",
       "\n",
       "[5 rows x 31 columns]"
      ]
     },
     "execution_count": 3,
     "metadata": {},
     "output_type": "execute_result"
    }
   ],
   "source": [
    "df1.head(5)"
   ]
  },
  {
   "cell_type": "code",
   "execution_count": 8,
   "id": "b4caf361",
   "metadata": {
    "ExecuteTime": {
     "end_time": "2021-09-01T08:51:58.187670Z",
     "start_time": "2021-09-01T08:51:58.149795Z"
    }
   },
   "outputs": [
    {
     "name": "stdout",
     "output_type": "stream",
     "text": [
      "<class 'pandas.core.frame.DataFrame'>\n",
      "RangeIndex: 229 entries, 0 to 228\n",
      "Data columns (total 31 columns):\n",
      " #   Column                                        Non-Null Count  Dtype  \n",
      "---  ------                                        --------------  -----  \n",
      " 0   Account number                                229 non-null    int64  \n",
      " 1   Organization                                  229 non-null    object \n",
      " 2   City                                          229 non-null    object \n",
      " 3   Country                                       229 non-null    object \n",
      " 4   Region                                        229 non-null    object \n",
      " 5   C40                                           56 non-null     object \n",
      " 6   Access                                        229 non-null    object \n",
      " 7   Reporting year                                229 non-null    int64  \n",
      " 8   Accounting year                               229 non-null    object \n",
      " 9   Boundary                                      229 non-null    object \n",
      " 10  Protocol                                      229 non-null    object \n",
      " 11  Protocol column                               151 non-null    object \n",
      " 12  Gases included                                111 non-null    object \n",
      " 13  Total emissions (metric tonnes CO2e)          217 non-null    float64\n",
      " 14  Scopes Included                               229 non-null    object \n",
      " 15  Total Scope 1 Emissions (metric tonnes CO2e)  173 non-null    float64\n",
      " 16  Total Scope 2 Emissions (metric tonnes CO2e)  172 non-null    float64\n",
      " 17  Comment                                       79 non-null     object \n",
      " 18  Increase/Decrease from last year              209 non-null    object \n",
      " 19  Reason for increase/decrease in emissions     178 non-null    object \n",
      " 20  Population                                    229 non-null    int64  \n",
      " 21  Population year                               229 non-null    int64  \n",
      " 22  GDP                                           181 non-null    float64\n",
      " 23  GDP Currency                                  184 non-null    object \n",
      " 24  GDP Year                                      185 non-null    float64\n",
      " 25  GDP Source                                    178 non-null    object \n",
      " 26  Average annual temperature (in Celsius)​      223 non-null    float64\n",
      " 27  ​Average altitude (m)                         207 non-null    float64\n",
      " 28  ​Land area (in square km)                     228 non-null    float64\n",
      " 29  City Location                                 229 non-null    object \n",
      " 30  Country Location                              229 non-null    object \n",
      "dtypes: float64(8), int64(4), object(19)\n",
      "memory usage: 55.6+ KB\n"
     ]
    }
   ],
   "source": [
    "df1.info()"
   ]
  },
  {
   "cell_type": "code",
   "execution_count": 6,
   "id": "92656a88",
   "metadata": {
    "ExecuteTime": {
     "end_time": "2021-09-01T08:51:37.167304Z",
     "start_time": "2021-09-01T08:51:37.138350Z"
    }
   },
   "outputs": [
    {
     "name": "stdout",
     "output_type": "stream",
     "text": [
      "Dataset dimensions: (229, 31)\n",
      "Does the dataset contain NA? True\n",
      "Data types in dataset:\n",
      "object     19\n",
      "float64     8\n",
      "int64       4\n",
      "dtype: int64\n"
     ]
    }
   ],
   "source": [
    "print('Dataset dimensions:', df1.shape)\n",
    "print('Does the dataset contain NA?', df1.isna().any().any())\n",
    "print('Data types in dataset:')\n",
    "print(df1.dtypes.value_counts())"
   ]
  },
  {
   "cell_type": "markdown",
   "id": "b1e60ff9",
   "metadata": {},
   "source": [
    "**Interesting features**:\n",
    "- City\n",
    "- Country\n",
    "- Reporting Year\n",
    "- Total emissions (metric tonnes CO2e)\n",
    "- Total Scope 1 Emissions (metric tonnes CO2e)\n",
    "\n",
    "    Definition: Scope 1 includes on-site fossil fuel combustion and fleet fuel consumption.\n",
    "    \n",
    "\n",
    "- Total Scope 2 Emissions (metric tonnes CO2e)\n",
    "\n",
    "    - Scope 2 includes emissions that result from the generation of electricity, heat or steam purchased by the Agency from a utility provider.\n",
    "    - Scope 3 emissions include employee travel and commuting.\n",
    "    - Scope 3 also includes emissions associated with contracted solid waste disposal and wastewater treatment.\n",
    "    - Some Scope 3 emissions can also result from transportation and distribution (T&D) losses associated with purchased  electricity.\n",
    "    \n",
    "    source: https://www.epa.gov/greeningepa/greenhouse-gases-epa\n",
    "    \n",
    "    \n",
    "- GDP\n",
    "- GDP Currency\n",
    "- GDP Year\n",
    "- Land area (in square km)\n",
    "- Population"
   ]
  },
  {
   "cell_type": "code",
   "execution_count": 9,
   "id": "e872fbee",
   "metadata": {
    "ExecuteTime": {
     "end_time": "2021-09-01T08:56:24.800731Z",
     "start_time": "2021-09-01T08:56:24.781524Z"
    }
   },
   "outputs": [
    {
     "data": {
      "text/plain": [
       "Index(['Account number', 'Organization', 'City', 'Country', 'Region', 'C40',\n",
       "       'Access', 'Reporting year', 'Accounting year', 'Boundary', 'Protocol',\n",
       "       'Protocol column', 'Gases included',\n",
       "       'Total emissions (metric tonnes CO2e)', 'Scopes Included ',\n",
       "       'Total Scope 1 Emissions (metric tonnes CO2e)',\n",
       "       'Total Scope 2 Emissions (metric tonnes CO2e)', 'Comment',\n",
       "       'Increase/Decrease from last year',\n",
       "       'Reason for increase/decrease in emissions', 'Population',\n",
       "       'Population year', 'GDP', 'GDP Currency', 'GDP Year', 'GDP Source',\n",
       "       'Average annual temperature (in Celsius)​', '​Average altitude (m)',\n",
       "       '​Land area (in square km)', 'City Location', 'Country Location'],\n",
       "      dtype='object')"
      ]
     },
     "execution_count": 9,
     "metadata": {},
     "output_type": "execute_result"
    }
   ],
   "source": [
    "df1.columns"
   ]
  },
  {
   "cell_type": "code",
   "execution_count": 16,
   "id": "3cb79d49",
   "metadata": {
    "ExecuteTime": {
     "end_time": "2021-09-01T09:05:43.666699Z",
     "start_time": "2021-09-01T09:05:43.659605Z"
    }
   },
   "outputs": [],
   "source": [
    "df1 = df1.rename(columns={'​Land area (in square km)': 'Area'})"
   ]
  },
  {
   "cell_type": "code",
   "execution_count": 20,
   "id": "40e9fb61",
   "metadata": {
    "ExecuteTime": {
     "end_time": "2021-09-01T09:07:58.215712Z",
     "start_time": "2021-09-01T09:07:58.206532Z"
    }
   },
   "outputs": [],
   "source": [
    "FEATURES_1 = ['City', 'Country', 'Reporting year', 'Gases included',\n",
    "       'Total emissions (metric tonnes CO2e)', 'Scopes Included ',\n",
    "       'Total Scope 1 Emissions (metric tonnes CO2e)',\n",
    "       'Total Scope 2 Emissions (metric tonnes CO2e)', \n",
    "       'Population',\n",
    "       'Population year', 'GDP', 'GDP Currency', 'GDP Year', \n",
    "       'Area']"
   ]
  },
  {
   "cell_type": "code",
   "execution_count": 21,
   "id": "c5687ce7",
   "metadata": {
    "ExecuteTime": {
     "end_time": "2021-09-01T09:08:01.090050Z",
     "start_time": "2021-09-01T09:08:01.070929Z"
    }
   },
   "outputs": [],
   "source": [
    "df1 = df1[FEATURES_1]"
   ]
  },
  {
   "cell_type": "code",
   "execution_count": 24,
   "id": "1e73c588",
   "metadata": {
    "ExecuteTime": {
     "end_time": "2021-09-01T09:10:02.846284Z",
     "start_time": "2021-09-01T09:10:02.823130Z"
    }
   },
   "outputs": [
    {
     "name": "stdout",
     "output_type": "stream",
     "text": [
      "Numerical: Index(['Reporting year', 'Total emissions (metric tonnes CO2e)',\n",
      "       'Total Scope 1 Emissions (metric tonnes CO2e)',\n",
      "       'Total Scope 2 Emissions (metric tonnes CO2e)', 'Population',\n",
      "       'Population year', 'GDP', 'GDP Year', 'Area'],\n",
      "      dtype='object')\n",
      "Categorical: Index(['City', 'Country', 'Gases included', 'Scopes Included ',\n",
      "       'GDP Currency'],\n",
      "      dtype='object')\n"
     ]
    }
   ],
   "source": [
    "NUMERICAL = df1.select_dtypes('number').columns\n",
    "CATEGORICAL = df1.select_dtypes('object').columns\n",
    "print(\"Numerical:\", NUMERICAL)\n",
    "print(\"Categorical:\", CATEGORICAL)"
   ]
  },
  {
   "cell_type": "code",
   "execution_count": 27,
   "id": "3579e3a4",
   "metadata": {
    "ExecuteTime": {
     "end_time": "2021-09-01T09:11:00.325844Z",
     "start_time": "2021-09-01T09:11:00.303806Z"
    }
   },
   "outputs": [
    {
     "data": {
      "text/plain": [
       "City                                            229\n",
       "Country                                          48\n",
       "Reporting year                                    1\n",
       "Gases included                                   12\n",
       "Total emissions (metric tonnes CO2e)            217\n",
       "Scopes Included                                   2\n",
       "Total Scope 1 Emissions (metric tonnes CO2e)    173\n",
       "Total Scope 2 Emissions (metric tonnes CO2e)    172\n",
       "Population                                      228\n",
       "Population year                                   8\n",
       "GDP                                             179\n",
       "GDP Currency                                     27\n",
       "GDP Year                                          7\n",
       "Area                                            216\n",
       "dtype: int64"
      ]
     },
     "execution_count": 27,
     "metadata": {},
     "output_type": "execute_result"
    }
   ],
   "source": [
    "df1[FEATURES_1].nunique()"
   ]
  },
  {
   "cell_type": "code",
   "execution_count": 28,
   "id": "3cfb5cee",
   "metadata": {
    "ExecuteTime": {
     "end_time": "2021-09-01T09:11:31.016186Z",
     "start_time": "2021-09-01T09:11:30.997745Z"
    }
   },
   "outputs": [
    {
     "name": "stdout",
     "output_type": "stream",
     "text": [
      "<class 'pandas.core.frame.DataFrame'>\n",
      "RangeIndex: 229 entries, 0 to 228\n",
      "Data columns (total 14 columns):\n",
      " #   Column                                        Non-Null Count  Dtype  \n",
      "---  ------                                        --------------  -----  \n",
      " 0   City                                          229 non-null    object \n",
      " 1   Country                                       229 non-null    object \n",
      " 2   Reporting year                                229 non-null    int64  \n",
      " 3   Gases included                                111 non-null    object \n",
      " 4   Total emissions (metric tonnes CO2e)          217 non-null    float64\n",
      " 5   Scopes Included                               229 non-null    object \n",
      " 6   Total Scope 1 Emissions (metric tonnes CO2e)  173 non-null    float64\n",
      " 7   Total Scope 2 Emissions (metric tonnes CO2e)  172 non-null    float64\n",
      " 8   Population                                    229 non-null    int64  \n",
      " 9   Population year                               229 non-null    int64  \n",
      " 10  GDP                                           181 non-null    float64\n",
      " 11  GDP Currency                                  184 non-null    object \n",
      " 12  GDP Year                                      185 non-null    float64\n",
      " 13  Area                                          228 non-null    float64\n",
      "dtypes: float64(6), int64(3), object(5)\n",
      "memory usage: 25.2+ KB\n"
     ]
    }
   ],
   "source": [
    "df1.info()"
   ]
  },
  {
   "cell_type": "code",
   "execution_count": 35,
   "id": "8ae49e16",
   "metadata": {
    "ExecuteTime": {
     "end_time": "2021-09-01T09:14:57.949293Z",
     "start_time": "2021-09-01T09:14:57.941211Z"
    }
   },
   "outputs": [
    {
     "data": {
      "text/plain": [
       "Total Scope 1 and Scope 2                                           116\n",
       "Total Scope 1, Scope 2 and Waste Scope 3 (Total BASIC emissions)    113\n",
       "Name: Scopes Included , dtype: int64"
      ]
     },
     "execution_count": 35,
     "metadata": {},
     "output_type": "execute_result"
    }
   ],
   "source": [
    "df1['Scopes Included '].value_counts()"
   ]
  },
  {
   "cell_type": "markdown",
   "id": "c8c04df7",
   "metadata": {},
   "source": [
    "So I believe we should use this dataset as our base dataset and do feature engineering ontop of this.\n",
    "\n",
    "We have our target value explicityly here with important population and area features which we can get city density from. Also we can use the city and country features to do joins on other data sets to bring in transport sector statistics like from your first EDA."
   ]
  }
 ],
 "metadata": {
  "kernelspec": {
   "display_name": "Python 3",
   "language": "python",
   "name": "python3"
  },
  "language_info": {
   "codemirror_mode": {
    "name": "ipython",
    "version": 3
   },
   "file_extension": ".py",
   "mimetype": "text/x-python",
   "name": "python",
   "nbconvert_exporter": "python",
   "pygments_lexer": "ipython3",
   "version": "3.8.10"
  },
  "toc": {
   "base_numbering": 1,
   "nav_menu": {},
   "number_sections": true,
   "sideBar": true,
   "skip_h1_title": true,
   "title_cell": "Table of Contents",
   "title_sidebar": "Contents",
   "toc_cell": false,
   "toc_position": {},
   "toc_section_display": true,
   "toc_window_display": false
  },
  "varInspector": {
   "cols": {
    "lenName": 16,
    "lenType": 16,
    "lenVar": 40
   },
   "kernels_config": {
    "python": {
     "delete_cmd_postfix": "",
     "delete_cmd_prefix": "del ",
     "library": "var_list.py",
     "varRefreshCmd": "print(var_dic_list())"
    },
    "r": {
     "delete_cmd_postfix": ") ",
     "delete_cmd_prefix": "rm(",
     "library": "var_list.r",
     "varRefreshCmd": "cat(var_dic_list()) "
    }
   },
   "types_to_exclude": [
    "module",
    "function",
    "builtin_function_or_method",
    "instance",
    "_Feature"
   ],
   "window_display": false
  }
 },
 "nbformat": 4,
 "nbformat_minor": 5
}
